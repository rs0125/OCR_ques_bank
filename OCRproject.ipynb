{
 "cells": [
  {
   "cell_type": "code",
   "execution_count": 4,
   "id": "0a739978-b250-4472-a478-dbed0ee06151",
   "metadata": {},
   "outputs": [],
   "source": [
    "from PIL import Image\n",
    "import pytesseract"
   ]
  },
  {
   "cell_type": "code",
   "execution_count": 5,
   "id": "dfd1d737-21c9-4a93-ba02-6b1b61a76e58",
   "metadata": {
    "scrolled": true
   },
   "outputs": [],
   "source": [
    "#Initial Local Testing:\n",
    "# Path to the tesseract executable\n",
    "#pytesseract.pytesseract.tesseract_cmd = r'C:\\Program Files\\Tesseract-OCR\\tesseract.exe'\n",
    "\n",
    "# Perform OCR on the image\n",
    "#image_path = r'C:\\Users\\avant\\Downloads\\test_image3.jpeg'\n",
    "#print(pytesseract.image_to_string(Image.open(image_path)))\n",
    "#image_convertor=pytesseract.image_to_string(Image.open(image_path))\n",
    "#print(image_convertor)\n"
   ]
  },
  {
   "cell_type": "code",
   "execution_count": 6,
   "id": "e3b59aec-2dd4-4077-867f-87d151429370",
   "metadata": {},
   "outputs": [],
   "source": [
    "from flask import Flask, render_template, request, redirect, url_for\n",
    "from PIL import Image\n",
    "import pytesseract\n",
    "import os"
   ]
  },
  {
   "cell_type": "code",
   "execution_count": null,
   "id": "591a0c83-1e3c-45ad-8da6-090d4f6cc822",
   "metadata": {
    "scrolled": true
   },
   "outputs": [],
   "source": [
    "app = Flask(__name__)\n",
    "app.config['UPLOAD_FOLDER'] = 'uploads'\n",
    "\n",
    "subjectlist = [\n",
    "    [\"Engineering chemistry (BCHY101L)\", \"17 questions available\"],\n",
    "    [\"Engineering Physics (BPHY101L)\", \"17 questions available\"]\n",
    "]\n",
    "\n",
    "@app.route(\"/\")\n",
    "@app.route(\"/home\")\n",
    "def home():\n",
    "    return render_template(\"index.html\", title=\"Scan Kumar\")\n",
    "\n",
    "@app.route(\"/subjects\")\n",
    "def subjects():\n",
    "    return render_template(\"subjects.html\", title=\"Subjects\", subs=subjectlist)\n",
    "\n",
    "@app.route(\"/login\")\n",
    "def login():\n",
    "    return render_template(\"login.html\", title=\"Login\")\n",
    "\n",
    "@app.route(\"/dashboard\")\n",
    "def dashboard():\n",
    "    return render_template(\"admin_dashboard.html\", title=\"Dashboard\")\n",
    "\n",
    "@app.route(\"/review\")\n",
    "def review():\n",
    "    return render_template(\"admin_sub_review.html\", title=\"Review Submission\")\n",
    "\n",
    "@app.route('/submit', methods=['POST'])\n",
    "def submit():\n",
    "    if request.method == 'POST':\n",
    "        information = request.form\n",
    "    return render_template(\"submit.html\", data=information)\n",
    "\n",
    "@app.route('/upload', methods=['GET', 'POST'])\n",
    "def upload():\n",
    "    if request.method == 'POST':\n",
    "        if 'file' not in request.files:\n",
    "            return redirect(request.url)\n",
    "        file = request.files['file']\n",
    "        if file.filename == '':\n",
    "            return redirect(request.url)\n",
    "        if file:\n",
    "            filepath = os.path.join(app.config['UPLOAD_FOLDER'], file.filename)\n",
    "            file.save(filepath)\n",
    "            text = pytesseract.image_to_string(Image.open(filepath))\n",
    "            os.remove(filepath)  # Clean up the uploaded file after processing\n",
    "            return render_template(\"result.html\", title=\"OCR Result\", text=text)\n",
    "    return render_template(\"upload.html\", title=\"Upload Image\")\n",
    "\n",
    "if __name__ == '__main__':\n",
    "    app.run(debug=True)\n"
   ]
  },
  {
   "cell_type": "code",
   "execution_count": null,
   "id": "544b41b7-a785-45de-b9ca-1737fb14dc0b",
   "metadata": {},
   "outputs": [],
   "source": []
  }
 ],
 "metadata": {
  "kernelspec": {
   "display_name": "Python 3 (ipykernel)",
   "language": "python",
   "name": "python3"
  },
  "language_info": {
   "codemirror_mode": {
    "name": "ipython",
    "version": 3
   },
   "file_extension": ".py",
   "mimetype": "text/x-python",
   "name": "python",
   "nbconvert_exporter": "python",
   "pygments_lexer": "ipython3",
   "version": "3.11.9"
  }
 },
 "nbformat": 4,
 "nbformat_minor": 5
}
